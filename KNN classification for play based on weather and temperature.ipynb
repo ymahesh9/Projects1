{
 "cells": [
  {
   "cell_type": "markdown",
   "metadata": {},
   "source": [
    "# KNN Classification using Scikit-learn\n",
    "\n",
    "K-Nearest Neighbor(KNN) is one of the widely used machine learning algorithms.                                      \n",
    "KNN is used in variety of applications such as finance, healthcare etc.\n",
    "\n",
    "Example - In loan disbursement, banks will predict whether the loan is safe or not.            \n",
    "\n",
    "In KNN, K is number of nearest neighbors."
   ]
  },
  {
   "cell_type": "code",
   "execution_count": 1,
   "metadata": {},
   "outputs": [],
   "source": [
    "# Let's create our dataset\n",
    "# We use two features (weather and temperature) and one target variable (play)\n",
    "\n",
    "weather = ['Sunny','Sunny','Overcast','Rainy','Rainy','Rainy','Overcast','Sunny','Sunny',\n",
    "'Rainy','Sunny','Overcast','Overcast','Rainy']\n",
    "\n",
    "temp = ['Hot','Hot','Hot','Mild','Cool','Cool','Cool','Mild','Cool','Mild','Mild','Mild','Hot','Mild']\n",
    "\n",
    "play = ['No','No','Yes','Yes','Yes','No','Yes','No','Yes','Yes','Yes','Yes','Yes','No']"
   ]
  },
  {
   "cell_type": "markdown",
   "metadata": {},
   "source": [
    "### Label encoding\n",
    "Machine learning algorithms require numerical input data, so we represent the columns in numerical form.               \n",
    "We use LabelEncoder from sklearn to represent data"
   ]
  },
  {
   "cell_type": "code",
   "execution_count": 2,
   "metadata": {},
   "outputs": [
    {
     "name": "stdout",
     "output_type": "stream",
     "text": [
      "[2 2 0 1 1 1 0 2 2 1 2 0 0 1]\n",
      "[1 1 1 2 0 0 0 2 0 2 2 2 1 2]\n",
      "[0 0 1 1 1 0 1 0 1 1 1 1 1 0]\n"
     ]
    }
   ],
   "source": [
    "from sklearn import preprocessing\n",
    "laben = preprocessing.LabelEncoder()\n",
    "\n",
    "weather_num = laben.fit_transform(weather)\n",
    "temp_num = laben.fit_transform(temp)\n",
    "play_num = laben.fit_transform(play)\n",
    "\n",
    "print(weather_num)\n",
    "print(temp_num)\n",
    "print(play_num)"
   ]
  },
  {
   "cell_type": "markdown",
   "metadata": {},
   "source": [
    "In above output, we can see encoding for weather, temp and play.                                                \n",
    "weather ---->  Overcast - 0 | Rainy - 1 | Sunny - 2                                                       \n",
    "temp    ---->          Cool - 0 | Hot - 1 | Mild - 2                                                           \n",
    "play    ---->            No - 0 | Yes - 1\n"
   ]
  },
  {
   "cell_type": "markdown",
   "metadata": {},
   "source": [
    "We can combine two features weather and temp into a single set using zip function."
   ]
  },
  {
   "cell_type": "code",
   "execution_count": 4,
   "metadata": {},
   "outputs": [
    {
     "name": "stdout",
     "output_type": "stream",
     "text": [
      "[(2, 1), (2, 1), (0, 1), (1, 2), (1, 0), (1, 0), (0, 0), (2, 2), (2, 0), (1, 2), (2, 2), (0, 2), (0, 1), (1, 2)]\n"
     ]
    }
   ],
   "source": [
    "features = list(zip(weather_num, temp_num))\n",
    "print(features)"
   ]
  },
  {
   "cell_type": "markdown",
   "metadata": {},
   "source": [
    "### Generating Model\n",
    "Next step is to generate model, Let's build KNN classification model.                                        \n",
    "Import KNeighborsClassifier module from sklearn and create KNN classifier object.                             \n",
    "Here we use number of neighbors K = 3."
   ]
  },
  {
   "cell_type": "code",
   "execution_count": 5,
   "metadata": {},
   "outputs": [
    {
     "name": "stdout",
     "output_type": "stream",
     "text": [
      "[1]\n"
     ]
    }
   ],
   "source": [
    "from sklearn.neighbors import KNeighborsClassifier\n",
    "KNNModel = KNeighborsClassifier(n_neighbors = 3)\n",
    "\n",
    "# Now train the model using training data\n",
    "KNNModel.fit(features,play_num)\n",
    "\n",
    "#Predict output\n",
    "predict_output = KNNModel.predict([[0,2]])  # for overcast:0 and mild:2\n",
    "\n",
    "print(predict_output)"
   ]
  },
  {
   "cell_type": "markdown",
   "metadata": {},
   "source": [
    "#### Output\n",
    "In above example, we have given input (0,2) where 0 means overcast weather and 2 means mild temperature.                       \n",
    "Model has predicted (1) which means yes we can play."
   ]
  }
 ],
 "metadata": {
  "kernelspec": {
   "display_name": "Python 3",
   "language": "python",
   "name": "python3"
  },
  "language_info": {
   "codemirror_mode": {
    "name": "ipython",
    "version": 3
   },
   "file_extension": ".py",
   "mimetype": "text/x-python",
   "name": "python",
   "nbconvert_exporter": "python",
   "pygments_lexer": "ipython3",
   "version": "3.7.3"
  }
 },
 "nbformat": 4,
 "nbformat_minor": 2
}
